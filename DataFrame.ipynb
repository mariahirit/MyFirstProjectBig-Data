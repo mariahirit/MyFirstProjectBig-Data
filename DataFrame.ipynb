{
  "nbformat": 4,
  "nbformat_minor": 0,
  "metadata": {
    "colab": {
      "name": "DataFrame.ipynb",
      "provenance": [],
      "authorship_tag": "ABX9TyPA97lbGcsWF6W5R5Ra8n3B",
      "include_colab_link": true
    },
    "kernelspec": {
      "name": "python3",
      "display_name": "Python 3"
    },
    "language_info": {
      "name": "python"
    }
  },
  "cells": [
    {
      "cell_type": "markdown",
      "metadata": {
        "id": "view-in-github",
        "colab_type": "text"
      },
      "source": [
        "<a href=\"https://colab.research.google.com/github/mariahirit/MyFirstProjectBig-Data/blob/master/DataFrame.ipynb\" target=\"_parent\"><img src=\"https://colab.research.google.com/assets/colab-badge.svg\" alt=\"Open In Colab\"/></a>"
      ]
    },
    {
      "cell_type": "code",
      "execution_count": 6,
      "metadata": {
        "id": "ZxECEQU5hI12"
      },
      "outputs": [],
      "source": [
        "import pandas as pd\n",
        "import numpy as np\n",
        "import matplotlib.pyplot as plt\n"
      ]
    },
    {
      "cell_type": "code",
      "source": [
        "df = pd.read_csv(\"/content/sample_data/california_housing_test.csv\")"
      ],
      "metadata": {
        "id": "yLaa4-ia8QBO"
      },
      "execution_count": 7,
      "outputs": []
    },
    {
      "cell_type": "code",
      "source": [
        "df"
      ],
      "metadata": {
        "colab": {
          "base_uri": "https://localhost:8080/",
          "height": 488
        },
        "id": "4WGSWY3A8Y40",
        "outputId": "056e923b-811d-4e24-bb88-7c633b5bd0b2"
      },
      "execution_count": 8,
      "outputs": [
        {
          "output_type": "execute_result",
          "data": {
            "text/plain": [
              "      longitude  latitude  housing_median_age  total_rooms  total_bedrooms  \\\n",
              "0       -122.05     37.37                27.0       3885.0           661.0   \n",
              "1       -118.30     34.26                43.0       1510.0           310.0   \n",
              "2       -117.81     33.78                27.0       3589.0           507.0   \n",
              "3       -118.36     33.82                28.0         67.0            15.0   \n",
              "4       -119.67     36.33                19.0       1241.0           244.0   \n",
              "...         ...       ...                 ...          ...             ...   \n",
              "2995    -119.86     34.42                23.0       1450.0           642.0   \n",
              "2996    -118.14     34.06                27.0       5257.0          1082.0   \n",
              "2997    -119.70     36.30                10.0        956.0           201.0   \n",
              "2998    -117.12     34.10                40.0         96.0            14.0   \n",
              "2999    -119.63     34.42                42.0       1765.0           263.0   \n",
              "\n",
              "      population  households  median_income  median_house_value  \n",
              "0         1537.0       606.0         6.6085            344700.0  \n",
              "1          809.0       277.0         3.5990            176500.0  \n",
              "2         1484.0       495.0         5.7934            270500.0  \n",
              "3           49.0        11.0         6.1359            330000.0  \n",
              "4          850.0       237.0         2.9375             81700.0  \n",
              "...          ...         ...            ...                 ...  \n",
              "2995      1258.0       607.0         1.1790            225000.0  \n",
              "2996      3496.0      1036.0         3.3906            237200.0  \n",
              "2997       693.0       220.0         2.2895             62000.0  \n",
              "2998        46.0        14.0         3.2708            162500.0  \n",
              "2999       753.0       260.0         8.5608            500001.0  \n",
              "\n",
              "[3000 rows x 9 columns]"
            ],
            "text/html": [
              "\n",
              "  <div id=\"df-0d0ee8ad-9f46-44ea-a528-f09aca26087a\">\n",
              "    <div class=\"colab-df-container\">\n",
              "      <div>\n",
              "<style scoped>\n",
              "    .dataframe tbody tr th:only-of-type {\n",
              "        vertical-align: middle;\n",
              "    }\n",
              "\n",
              "    .dataframe tbody tr th {\n",
              "        vertical-align: top;\n",
              "    }\n",
              "\n",
              "    .dataframe thead th {\n",
              "        text-align: right;\n",
              "    }\n",
              "</style>\n",
              "<table border=\"1\" class=\"dataframe\">\n",
              "  <thead>\n",
              "    <tr style=\"text-align: right;\">\n",
              "      <th></th>\n",
              "      <th>longitude</th>\n",
              "      <th>latitude</th>\n",
              "      <th>housing_median_age</th>\n",
              "      <th>total_rooms</th>\n",
              "      <th>total_bedrooms</th>\n",
              "      <th>population</th>\n",
              "      <th>households</th>\n",
              "      <th>median_income</th>\n",
              "      <th>median_house_value</th>\n",
              "    </tr>\n",
              "  </thead>\n",
              "  <tbody>\n",
              "    <tr>\n",
              "      <th>0</th>\n",
              "      <td>-122.05</td>\n",
              "      <td>37.37</td>\n",
              "      <td>27.0</td>\n",
              "      <td>3885.0</td>\n",
              "      <td>661.0</td>\n",
              "      <td>1537.0</td>\n",
              "      <td>606.0</td>\n",
              "      <td>6.6085</td>\n",
              "      <td>344700.0</td>\n",
              "    </tr>\n",
              "    <tr>\n",
              "      <th>1</th>\n",
              "      <td>-118.30</td>\n",
              "      <td>34.26</td>\n",
              "      <td>43.0</td>\n",
              "      <td>1510.0</td>\n",
              "      <td>310.0</td>\n",
              "      <td>809.0</td>\n",
              "      <td>277.0</td>\n",
              "      <td>3.5990</td>\n",
              "      <td>176500.0</td>\n",
              "    </tr>\n",
              "    <tr>\n",
              "      <th>2</th>\n",
              "      <td>-117.81</td>\n",
              "      <td>33.78</td>\n",
              "      <td>27.0</td>\n",
              "      <td>3589.0</td>\n",
              "      <td>507.0</td>\n",
              "      <td>1484.0</td>\n",
              "      <td>495.0</td>\n",
              "      <td>5.7934</td>\n",
              "      <td>270500.0</td>\n",
              "    </tr>\n",
              "    <tr>\n",
              "      <th>3</th>\n",
              "      <td>-118.36</td>\n",
              "      <td>33.82</td>\n",
              "      <td>28.0</td>\n",
              "      <td>67.0</td>\n",
              "      <td>15.0</td>\n",
              "      <td>49.0</td>\n",
              "      <td>11.0</td>\n",
              "      <td>6.1359</td>\n",
              "      <td>330000.0</td>\n",
              "    </tr>\n",
              "    <tr>\n",
              "      <th>4</th>\n",
              "      <td>-119.67</td>\n",
              "      <td>36.33</td>\n",
              "      <td>19.0</td>\n",
              "      <td>1241.0</td>\n",
              "      <td>244.0</td>\n",
              "      <td>850.0</td>\n",
              "      <td>237.0</td>\n",
              "      <td>2.9375</td>\n",
              "      <td>81700.0</td>\n",
              "    </tr>\n",
              "    <tr>\n",
              "      <th>...</th>\n",
              "      <td>...</td>\n",
              "      <td>...</td>\n",
              "      <td>...</td>\n",
              "      <td>...</td>\n",
              "      <td>...</td>\n",
              "      <td>...</td>\n",
              "      <td>...</td>\n",
              "      <td>...</td>\n",
              "      <td>...</td>\n",
              "    </tr>\n",
              "    <tr>\n",
              "      <th>2995</th>\n",
              "      <td>-119.86</td>\n",
              "      <td>34.42</td>\n",
              "      <td>23.0</td>\n",
              "      <td>1450.0</td>\n",
              "      <td>642.0</td>\n",
              "      <td>1258.0</td>\n",
              "      <td>607.0</td>\n",
              "      <td>1.1790</td>\n",
              "      <td>225000.0</td>\n",
              "    </tr>\n",
              "    <tr>\n",
              "      <th>2996</th>\n",
              "      <td>-118.14</td>\n",
              "      <td>34.06</td>\n",
              "      <td>27.0</td>\n",
              "      <td>5257.0</td>\n",
              "      <td>1082.0</td>\n",
              "      <td>3496.0</td>\n",
              "      <td>1036.0</td>\n",
              "      <td>3.3906</td>\n",
              "      <td>237200.0</td>\n",
              "    </tr>\n",
              "    <tr>\n",
              "      <th>2997</th>\n",
              "      <td>-119.70</td>\n",
              "      <td>36.30</td>\n",
              "      <td>10.0</td>\n",
              "      <td>956.0</td>\n",
              "      <td>201.0</td>\n",
              "      <td>693.0</td>\n",
              "      <td>220.0</td>\n",
              "      <td>2.2895</td>\n",
              "      <td>62000.0</td>\n",
              "    </tr>\n",
              "    <tr>\n",
              "      <th>2998</th>\n",
              "      <td>-117.12</td>\n",
              "      <td>34.10</td>\n",
              "      <td>40.0</td>\n",
              "      <td>96.0</td>\n",
              "      <td>14.0</td>\n",
              "      <td>46.0</td>\n",
              "      <td>14.0</td>\n",
              "      <td>3.2708</td>\n",
              "      <td>162500.0</td>\n",
              "    </tr>\n",
              "    <tr>\n",
              "      <th>2999</th>\n",
              "      <td>-119.63</td>\n",
              "      <td>34.42</td>\n",
              "      <td>42.0</td>\n",
              "      <td>1765.0</td>\n",
              "      <td>263.0</td>\n",
              "      <td>753.0</td>\n",
              "      <td>260.0</td>\n",
              "      <td>8.5608</td>\n",
              "      <td>500001.0</td>\n",
              "    </tr>\n",
              "  </tbody>\n",
              "</table>\n",
              "<p>3000 rows × 9 columns</p>\n",
              "</div>\n",
              "      <button class=\"colab-df-convert\" onclick=\"convertToInteractive('df-0d0ee8ad-9f46-44ea-a528-f09aca26087a')\"\n",
              "              title=\"Convert this dataframe to an interactive table.\"\n",
              "              style=\"display:none;\">\n",
              "        \n",
              "  <svg xmlns=\"http://www.w3.org/2000/svg\" height=\"24px\"viewBox=\"0 0 24 24\"\n",
              "       width=\"24px\">\n",
              "    <path d=\"M0 0h24v24H0V0z\" fill=\"none\"/>\n",
              "    <path d=\"M18.56 5.44l.94 2.06.94-2.06 2.06-.94-2.06-.94-.94-2.06-.94 2.06-2.06.94zm-11 1L8.5 8.5l.94-2.06 2.06-.94-2.06-.94L8.5 2.5l-.94 2.06-2.06.94zm10 10l.94 2.06.94-2.06 2.06-.94-2.06-.94-.94-2.06-.94 2.06-2.06.94z\"/><path d=\"M17.41 7.96l-1.37-1.37c-.4-.4-.92-.59-1.43-.59-.52 0-1.04.2-1.43.59L10.3 9.45l-7.72 7.72c-.78.78-.78 2.05 0 2.83L4 21.41c.39.39.9.59 1.41.59.51 0 1.02-.2 1.41-.59l7.78-7.78 2.81-2.81c.8-.78.8-2.07 0-2.86zM5.41 20L4 18.59l7.72-7.72 1.47 1.35L5.41 20z\"/>\n",
              "  </svg>\n",
              "      </button>\n",
              "      \n",
              "  <style>\n",
              "    .colab-df-container {\n",
              "      display:flex;\n",
              "      flex-wrap:wrap;\n",
              "      gap: 12px;\n",
              "    }\n",
              "\n",
              "    .colab-df-convert {\n",
              "      background-color: #E8F0FE;\n",
              "      border: none;\n",
              "      border-radius: 50%;\n",
              "      cursor: pointer;\n",
              "      display: none;\n",
              "      fill: #1967D2;\n",
              "      height: 32px;\n",
              "      padding: 0 0 0 0;\n",
              "      width: 32px;\n",
              "    }\n",
              "\n",
              "    .colab-df-convert:hover {\n",
              "      background-color: #E2EBFA;\n",
              "      box-shadow: 0px 1px 2px rgba(60, 64, 67, 0.3), 0px 1px 3px 1px rgba(60, 64, 67, 0.15);\n",
              "      fill: #174EA6;\n",
              "    }\n",
              "\n",
              "    [theme=dark] .colab-df-convert {\n",
              "      background-color: #3B4455;\n",
              "      fill: #D2E3FC;\n",
              "    }\n",
              "\n",
              "    [theme=dark] .colab-df-convert:hover {\n",
              "      background-color: #434B5C;\n",
              "      box-shadow: 0px 1px 3px 1px rgba(0, 0, 0, 0.15);\n",
              "      filter: drop-shadow(0px 1px 2px rgba(0, 0, 0, 0.3));\n",
              "      fill: #FFFFFF;\n",
              "    }\n",
              "  </style>\n",
              "\n",
              "      <script>\n",
              "        const buttonEl =\n",
              "          document.querySelector('#df-0d0ee8ad-9f46-44ea-a528-f09aca26087a button.colab-df-convert');\n",
              "        buttonEl.style.display =\n",
              "          google.colab.kernel.accessAllowed ? 'block' : 'none';\n",
              "\n",
              "        async function convertToInteractive(key) {\n",
              "          const element = document.querySelector('#df-0d0ee8ad-9f46-44ea-a528-f09aca26087a');\n",
              "          const dataTable =\n",
              "            await google.colab.kernel.invokeFunction('convertToInteractive',\n",
              "                                                     [key], {});\n",
              "          if (!dataTable) return;\n",
              "\n",
              "          const docLinkHtml = 'Like what you see? Visit the ' +\n",
              "            '<a target=\"_blank\" href=https://colab.research.google.com/notebooks/data_table.ipynb>data table notebook</a>'\n",
              "            + ' to learn more about interactive tables.';\n",
              "          element.innerHTML = '';\n",
              "          dataTable['output_type'] = 'display_data';\n",
              "          await google.colab.output.renderOutput(dataTable, element);\n",
              "          const docLink = document.createElement('div');\n",
              "          docLink.innerHTML = docLinkHtml;\n",
              "          element.appendChild(docLink);\n",
              "        }\n",
              "      </script>\n",
              "    </div>\n",
              "  </div>\n",
              "  "
            ]
          },
          "metadata": {},
          "execution_count": 8
        }
      ]
    },
    {
      "cell_type": "markdown",
      "source": [
        "Show the total number of columns and rows"
      ],
      "metadata": {
        "id": "u99y8L-B8c83"
      }
    },
    {
      "cell_type": "code",
      "source": [
        "df.shape"
      ],
      "metadata": {
        "colab": {
          "base_uri": "https://localhost:8080/"
        },
        "id": "rlU-vIk_8o30",
        "outputId": "6a20bb3b-ab63-49c4-b61f-9a7fc08f9128"
      },
      "execution_count": 9,
      "outputs": [
        {
          "output_type": "execute_result",
          "data": {
            "text/plain": [
              "(3000, 9)"
            ]
          },
          "metadata": {},
          "execution_count": 9
        }
      ]
    },
    {
      "cell_type": "markdown",
      "source": [
        "Show the total number of index"
      ],
      "metadata": {
        "id": "wDT_90tG8sIs"
      }
    },
    {
      "cell_type": "code",
      "source": [
        "df.index"
      ],
      "metadata": {
        "colab": {
          "base_uri": "https://localhost:8080/"
        },
        "id": "LmNGGmY78z5Z",
        "outputId": "e1d91cd1-c73b-4b86-dd39-c8e47327fc8f"
      },
      "execution_count": 10,
      "outputs": [
        {
          "output_type": "execute_result",
          "data": {
            "text/plain": [
              "RangeIndex(start=0, stop=3000, step=1)"
            ]
          },
          "metadata": {},
          "execution_count": 10
        }
      ]
    },
    {
      "cell_type": "markdown",
      "source": [
        "Show the name of columns"
      ],
      "metadata": {
        "id": "YqlpuroR8_Gp"
      }
    },
    {
      "cell_type": "code",
      "source": [
        "df.columns"
      ],
      "metadata": {
        "colab": {
          "base_uri": "https://localhost:8080/"
        },
        "id": "YpCbGJ4L9XFL",
        "outputId": "eb57b0be-c35a-4a28-dfe0-b74a904f656d"
      },
      "execution_count": 11,
      "outputs": [
        {
          "output_type": "execute_result",
          "data": {
            "text/plain": [
              "Index(['longitude', 'latitude', 'housing_median_age', 'total_rooms',\n",
              "       'total_bedrooms', 'population', 'households', 'median_income',\n",
              "       'median_house_value'],\n",
              "      dtype='object')"
            ]
          },
          "metadata": {},
          "execution_count": 11
        }
      ]
    },
    {
      "cell_type": "markdown",
      "source": [
        "Show the data type of each columns"
      ],
      "metadata": {
        "id": "OMABOkQb__ln"
      }
    },
    {
      "cell_type": "code",
      "source": [
        "df.dtypes"
      ],
      "metadata": {
        "colab": {
          "base_uri": "https://localhost:8080/"
        },
        "id": "tV9sLWdMANNL",
        "outputId": "3293dce1-de90-4d0c-8f8a-cbb9673f32a1"
      },
      "execution_count": 12,
      "outputs": [
        {
          "output_type": "execute_result",
          "data": {
            "text/plain": [
              "longitude             float64\n",
              "latitude              float64\n",
              "housing_median_age    float64\n",
              "total_rooms           float64\n",
              "total_bedrooms        float64\n",
              "population            float64\n",
              "households            float64\n",
              "median_income         float64\n",
              "median_house_value    float64\n",
              "dtype: object"
            ]
          },
          "metadata": {},
          "execution_count": 12
        }
      ]
    },
    {
      "cell_type": "markdown",
      "source": [
        "Show the first (5) rows"
      ],
      "metadata": {
        "id": "ARDoJrnEBFHt"
      }
    },
    {
      "cell_type": "code",
      "source": [
        "df.head()"
      ],
      "metadata": {
        "colab": {
          "base_uri": "https://localhost:8080/",
          "height": 270
        },
        "id": "ENSBTvN5BPXU",
        "outputId": "eb481f72-6231-4d0a-88ba-b8eaa11ad815"
      },
      "execution_count": 13,
      "outputs": [
        {
          "output_type": "execute_result",
          "data": {
            "text/plain": [
              "   longitude  latitude  housing_median_age  total_rooms  total_bedrooms  \\\n",
              "0    -122.05     37.37                27.0       3885.0           661.0   \n",
              "1    -118.30     34.26                43.0       1510.0           310.0   \n",
              "2    -117.81     33.78                27.0       3589.0           507.0   \n",
              "3    -118.36     33.82                28.0         67.0            15.0   \n",
              "4    -119.67     36.33                19.0       1241.0           244.0   \n",
              "\n",
              "   population  households  median_income  median_house_value  \n",
              "0      1537.0       606.0         6.6085            344700.0  \n",
              "1       809.0       277.0         3.5990            176500.0  \n",
              "2      1484.0       495.0         5.7934            270500.0  \n",
              "3        49.0        11.0         6.1359            330000.0  \n",
              "4       850.0       237.0         2.9375             81700.0  "
            ],
            "text/html": [
              "\n",
              "  <div id=\"df-b4b9c379-402a-4134-a122-260fb39b7bf0\">\n",
              "    <div class=\"colab-df-container\">\n",
              "      <div>\n",
              "<style scoped>\n",
              "    .dataframe tbody tr th:only-of-type {\n",
              "        vertical-align: middle;\n",
              "    }\n",
              "\n",
              "    .dataframe tbody tr th {\n",
              "        vertical-align: top;\n",
              "    }\n",
              "\n",
              "    .dataframe thead th {\n",
              "        text-align: right;\n",
              "    }\n",
              "</style>\n",
              "<table border=\"1\" class=\"dataframe\">\n",
              "  <thead>\n",
              "    <tr style=\"text-align: right;\">\n",
              "      <th></th>\n",
              "      <th>longitude</th>\n",
              "      <th>latitude</th>\n",
              "      <th>housing_median_age</th>\n",
              "      <th>total_rooms</th>\n",
              "      <th>total_bedrooms</th>\n",
              "      <th>population</th>\n",
              "      <th>households</th>\n",
              "      <th>median_income</th>\n",
              "      <th>median_house_value</th>\n",
              "    </tr>\n",
              "  </thead>\n",
              "  <tbody>\n",
              "    <tr>\n",
              "      <th>0</th>\n",
              "      <td>-122.05</td>\n",
              "      <td>37.37</td>\n",
              "      <td>27.0</td>\n",
              "      <td>3885.0</td>\n",
              "      <td>661.0</td>\n",
              "      <td>1537.0</td>\n",
              "      <td>606.0</td>\n",
              "      <td>6.6085</td>\n",
              "      <td>344700.0</td>\n",
              "    </tr>\n",
              "    <tr>\n",
              "      <th>1</th>\n",
              "      <td>-118.30</td>\n",
              "      <td>34.26</td>\n",
              "      <td>43.0</td>\n",
              "      <td>1510.0</td>\n",
              "      <td>310.0</td>\n",
              "      <td>809.0</td>\n",
              "      <td>277.0</td>\n",
              "      <td>3.5990</td>\n",
              "      <td>176500.0</td>\n",
              "    </tr>\n",
              "    <tr>\n",
              "      <th>2</th>\n",
              "      <td>-117.81</td>\n",
              "      <td>33.78</td>\n",
              "      <td>27.0</td>\n",
              "      <td>3589.0</td>\n",
              "      <td>507.0</td>\n",
              "      <td>1484.0</td>\n",
              "      <td>495.0</td>\n",
              "      <td>5.7934</td>\n",
              "      <td>270500.0</td>\n",
              "    </tr>\n",
              "    <tr>\n",
              "      <th>3</th>\n",
              "      <td>-118.36</td>\n",
              "      <td>33.82</td>\n",
              "      <td>28.0</td>\n",
              "      <td>67.0</td>\n",
              "      <td>15.0</td>\n",
              "      <td>49.0</td>\n",
              "      <td>11.0</td>\n",
              "      <td>6.1359</td>\n",
              "      <td>330000.0</td>\n",
              "    </tr>\n",
              "    <tr>\n",
              "      <th>4</th>\n",
              "      <td>-119.67</td>\n",
              "      <td>36.33</td>\n",
              "      <td>19.0</td>\n",
              "      <td>1241.0</td>\n",
              "      <td>244.0</td>\n",
              "      <td>850.0</td>\n",
              "      <td>237.0</td>\n",
              "      <td>2.9375</td>\n",
              "      <td>81700.0</td>\n",
              "    </tr>\n",
              "  </tbody>\n",
              "</table>\n",
              "</div>\n",
              "      <button class=\"colab-df-convert\" onclick=\"convertToInteractive('df-b4b9c379-402a-4134-a122-260fb39b7bf0')\"\n",
              "              title=\"Convert this dataframe to an interactive table.\"\n",
              "              style=\"display:none;\">\n",
              "        \n",
              "  <svg xmlns=\"http://www.w3.org/2000/svg\" height=\"24px\"viewBox=\"0 0 24 24\"\n",
              "       width=\"24px\">\n",
              "    <path d=\"M0 0h24v24H0V0z\" fill=\"none\"/>\n",
              "    <path d=\"M18.56 5.44l.94 2.06.94-2.06 2.06-.94-2.06-.94-.94-2.06-.94 2.06-2.06.94zm-11 1L8.5 8.5l.94-2.06 2.06-.94-2.06-.94L8.5 2.5l-.94 2.06-2.06.94zm10 10l.94 2.06.94-2.06 2.06-.94-2.06-.94-.94-2.06-.94 2.06-2.06.94z\"/><path d=\"M17.41 7.96l-1.37-1.37c-.4-.4-.92-.59-1.43-.59-.52 0-1.04.2-1.43.59L10.3 9.45l-7.72 7.72c-.78.78-.78 2.05 0 2.83L4 21.41c.39.39.9.59 1.41.59.51 0 1.02-.2 1.41-.59l7.78-7.78 2.81-2.81c.8-.78.8-2.07 0-2.86zM5.41 20L4 18.59l7.72-7.72 1.47 1.35L5.41 20z\"/>\n",
              "  </svg>\n",
              "      </button>\n",
              "      \n",
              "  <style>\n",
              "    .colab-df-container {\n",
              "      display:flex;\n",
              "      flex-wrap:wrap;\n",
              "      gap: 12px;\n",
              "    }\n",
              "\n",
              "    .colab-df-convert {\n",
              "      background-color: #E8F0FE;\n",
              "      border: none;\n",
              "      border-radius: 50%;\n",
              "      cursor: pointer;\n",
              "      display: none;\n",
              "      fill: #1967D2;\n",
              "      height: 32px;\n",
              "      padding: 0 0 0 0;\n",
              "      width: 32px;\n",
              "    }\n",
              "\n",
              "    .colab-df-convert:hover {\n",
              "      background-color: #E2EBFA;\n",
              "      box-shadow: 0px 1px 2px rgba(60, 64, 67, 0.3), 0px 1px 3px 1px rgba(60, 64, 67, 0.15);\n",
              "      fill: #174EA6;\n",
              "    }\n",
              "\n",
              "    [theme=dark] .colab-df-convert {\n",
              "      background-color: #3B4455;\n",
              "      fill: #D2E3FC;\n",
              "    }\n",
              "\n",
              "    [theme=dark] .colab-df-convert:hover {\n",
              "      background-color: #434B5C;\n",
              "      box-shadow: 0px 1px 3px 1px rgba(0, 0, 0, 0.15);\n",
              "      filter: drop-shadow(0px 1px 2px rgba(0, 0, 0, 0.3));\n",
              "      fill: #FFFFFF;\n",
              "    }\n",
              "  </style>\n",
              "\n",
              "      <script>\n",
              "        const buttonEl =\n",
              "          document.querySelector('#df-b4b9c379-402a-4134-a122-260fb39b7bf0 button.colab-df-convert');\n",
              "        buttonEl.style.display =\n",
              "          google.colab.kernel.accessAllowed ? 'block' : 'none';\n",
              "\n",
              "        async function convertToInteractive(key) {\n",
              "          const element = document.querySelector('#df-b4b9c379-402a-4134-a122-260fb39b7bf0');\n",
              "          const dataTable =\n",
              "            await google.colab.kernel.invokeFunction('convertToInteractive',\n",
              "                                                     [key], {});\n",
              "          if (!dataTable) return;\n",
              "\n",
              "          const docLinkHtml = 'Like what you see? Visit the ' +\n",
              "            '<a target=\"_blank\" href=https://colab.research.google.com/notebooks/data_table.ipynb>data table notebook</a>'\n",
              "            + ' to learn more about interactive tables.';\n",
              "          element.innerHTML = '';\n",
              "          dataTable['output_type'] = 'display_data';\n",
              "          await google.colab.output.renderOutput(dataTable, element);\n",
              "          const docLink = document.createElement('div');\n",
              "          docLink.innerHTML = docLinkHtml;\n",
              "          element.appendChild(docLink);\n",
              "        }\n",
              "      </script>\n",
              "    </div>\n",
              "  </div>\n",
              "  "
            ]
          },
          "metadata": {},
          "execution_count": 13
        }
      ]
    },
    {
      "cell_type": "markdown",
      "source": [
        "Show the last rows"
      ],
      "metadata": {
        "id": "94f-VFgHBU_r"
      }
    },
    {
      "cell_type": "code",
      "source": [
        "df.tail()"
      ],
      "metadata": {
        "colab": {
          "base_uri": "https://localhost:8080/",
          "height": 270
        },
        "id": "doyFc6hkBdV_",
        "outputId": "1229a84a-b102-449d-82d5-d9418c3817b1"
      },
      "execution_count": 14,
      "outputs": [
        {
          "output_type": "execute_result",
          "data": {
            "text/plain": [
              "      longitude  latitude  housing_median_age  total_rooms  total_bedrooms  \\\n",
              "2995    -119.86     34.42                23.0       1450.0           642.0   \n",
              "2996    -118.14     34.06                27.0       5257.0          1082.0   \n",
              "2997    -119.70     36.30                10.0        956.0           201.0   \n",
              "2998    -117.12     34.10                40.0         96.0            14.0   \n",
              "2999    -119.63     34.42                42.0       1765.0           263.0   \n",
              "\n",
              "      population  households  median_income  median_house_value  \n",
              "2995      1258.0       607.0         1.1790            225000.0  \n",
              "2996      3496.0      1036.0         3.3906            237200.0  \n",
              "2997       693.0       220.0         2.2895             62000.0  \n",
              "2998        46.0        14.0         3.2708            162500.0  \n",
              "2999       753.0       260.0         8.5608            500001.0  "
            ],
            "text/html": [
              "\n",
              "  <div id=\"df-2ccf183c-034c-4323-b5e3-5232fb929ad3\">\n",
              "    <div class=\"colab-df-container\">\n",
              "      <div>\n",
              "<style scoped>\n",
              "    .dataframe tbody tr th:only-of-type {\n",
              "        vertical-align: middle;\n",
              "    }\n",
              "\n",
              "    .dataframe tbody tr th {\n",
              "        vertical-align: top;\n",
              "    }\n",
              "\n",
              "    .dataframe thead th {\n",
              "        text-align: right;\n",
              "    }\n",
              "</style>\n",
              "<table border=\"1\" class=\"dataframe\">\n",
              "  <thead>\n",
              "    <tr style=\"text-align: right;\">\n",
              "      <th></th>\n",
              "      <th>longitude</th>\n",
              "      <th>latitude</th>\n",
              "      <th>housing_median_age</th>\n",
              "      <th>total_rooms</th>\n",
              "      <th>total_bedrooms</th>\n",
              "      <th>population</th>\n",
              "      <th>households</th>\n",
              "      <th>median_income</th>\n",
              "      <th>median_house_value</th>\n",
              "    </tr>\n",
              "  </thead>\n",
              "  <tbody>\n",
              "    <tr>\n",
              "      <th>2995</th>\n",
              "      <td>-119.86</td>\n",
              "      <td>34.42</td>\n",
              "      <td>23.0</td>\n",
              "      <td>1450.0</td>\n",
              "      <td>642.0</td>\n",
              "      <td>1258.0</td>\n",
              "      <td>607.0</td>\n",
              "      <td>1.1790</td>\n",
              "      <td>225000.0</td>\n",
              "    </tr>\n",
              "    <tr>\n",
              "      <th>2996</th>\n",
              "      <td>-118.14</td>\n",
              "      <td>34.06</td>\n",
              "      <td>27.0</td>\n",
              "      <td>5257.0</td>\n",
              "      <td>1082.0</td>\n",
              "      <td>3496.0</td>\n",
              "      <td>1036.0</td>\n",
              "      <td>3.3906</td>\n",
              "      <td>237200.0</td>\n",
              "    </tr>\n",
              "    <tr>\n",
              "      <th>2997</th>\n",
              "      <td>-119.70</td>\n",
              "      <td>36.30</td>\n",
              "      <td>10.0</td>\n",
              "      <td>956.0</td>\n",
              "      <td>201.0</td>\n",
              "      <td>693.0</td>\n",
              "      <td>220.0</td>\n",
              "      <td>2.2895</td>\n",
              "      <td>62000.0</td>\n",
              "    </tr>\n",
              "    <tr>\n",
              "      <th>2998</th>\n",
              "      <td>-117.12</td>\n",
              "      <td>34.10</td>\n",
              "      <td>40.0</td>\n",
              "      <td>96.0</td>\n",
              "      <td>14.0</td>\n",
              "      <td>46.0</td>\n",
              "      <td>14.0</td>\n",
              "      <td>3.2708</td>\n",
              "      <td>162500.0</td>\n",
              "    </tr>\n",
              "    <tr>\n",
              "      <th>2999</th>\n",
              "      <td>-119.63</td>\n",
              "      <td>34.42</td>\n",
              "      <td>42.0</td>\n",
              "      <td>1765.0</td>\n",
              "      <td>263.0</td>\n",
              "      <td>753.0</td>\n",
              "      <td>260.0</td>\n",
              "      <td>8.5608</td>\n",
              "      <td>500001.0</td>\n",
              "    </tr>\n",
              "  </tbody>\n",
              "</table>\n",
              "</div>\n",
              "      <button class=\"colab-df-convert\" onclick=\"convertToInteractive('df-2ccf183c-034c-4323-b5e3-5232fb929ad3')\"\n",
              "              title=\"Convert this dataframe to an interactive table.\"\n",
              "              style=\"display:none;\">\n",
              "        \n",
              "  <svg xmlns=\"http://www.w3.org/2000/svg\" height=\"24px\"viewBox=\"0 0 24 24\"\n",
              "       width=\"24px\">\n",
              "    <path d=\"M0 0h24v24H0V0z\" fill=\"none\"/>\n",
              "    <path d=\"M18.56 5.44l.94 2.06.94-2.06 2.06-.94-2.06-.94-.94-2.06-.94 2.06-2.06.94zm-11 1L8.5 8.5l.94-2.06 2.06-.94-2.06-.94L8.5 2.5l-.94 2.06-2.06.94zm10 10l.94 2.06.94-2.06 2.06-.94-2.06-.94-.94-2.06-.94 2.06-2.06.94z\"/><path d=\"M17.41 7.96l-1.37-1.37c-.4-.4-.92-.59-1.43-.59-.52 0-1.04.2-1.43.59L10.3 9.45l-7.72 7.72c-.78.78-.78 2.05 0 2.83L4 21.41c.39.39.9.59 1.41.59.51 0 1.02-.2 1.41-.59l7.78-7.78 2.81-2.81c.8-.78.8-2.07 0-2.86zM5.41 20L4 18.59l7.72-7.72 1.47 1.35L5.41 20z\"/>\n",
              "  </svg>\n",
              "      </button>\n",
              "      \n",
              "  <style>\n",
              "    .colab-df-container {\n",
              "      display:flex;\n",
              "      flex-wrap:wrap;\n",
              "      gap: 12px;\n",
              "    }\n",
              "\n",
              "    .colab-df-convert {\n",
              "      background-color: #E8F0FE;\n",
              "      border: none;\n",
              "      border-radius: 50%;\n",
              "      cursor: pointer;\n",
              "      display: none;\n",
              "      fill: #1967D2;\n",
              "      height: 32px;\n",
              "      padding: 0 0 0 0;\n",
              "      width: 32px;\n",
              "    }\n",
              "\n",
              "    .colab-df-convert:hover {\n",
              "      background-color: #E2EBFA;\n",
              "      box-shadow: 0px 1px 2px rgba(60, 64, 67, 0.3), 0px 1px 3px 1px rgba(60, 64, 67, 0.15);\n",
              "      fill: #174EA6;\n",
              "    }\n",
              "\n",
              "    [theme=dark] .colab-df-convert {\n",
              "      background-color: #3B4455;\n",
              "      fill: #D2E3FC;\n",
              "    }\n",
              "\n",
              "    [theme=dark] .colab-df-convert:hover {\n",
              "      background-color: #434B5C;\n",
              "      box-shadow: 0px 1px 3px 1px rgba(0, 0, 0, 0.15);\n",
              "      filter: drop-shadow(0px 1px 2px rgba(0, 0, 0, 0.3));\n",
              "      fill: #FFFFFF;\n",
              "    }\n",
              "  </style>\n",
              "\n",
              "      <script>\n",
              "        const buttonEl =\n",
              "          document.querySelector('#df-2ccf183c-034c-4323-b5e3-5232fb929ad3 button.colab-df-convert');\n",
              "        buttonEl.style.display =\n",
              "          google.colab.kernel.accessAllowed ? 'block' : 'none';\n",
              "\n",
              "        async function convertToInteractive(key) {\n",
              "          const element = document.querySelector('#df-2ccf183c-034c-4323-b5e3-5232fb929ad3');\n",
              "          const dataTable =\n",
              "            await google.colab.kernel.invokeFunction('convertToInteractive',\n",
              "                                                     [key], {});\n",
              "          if (!dataTable) return;\n",
              "\n",
              "          const docLinkHtml = 'Like what you see? Visit the ' +\n",
              "            '<a target=\"_blank\" href=https://colab.research.google.com/notebooks/data_table.ipynb>data table notebook</a>'\n",
              "            + ' to learn more about interactive tables.';\n",
              "          element.innerHTML = '';\n",
              "          dataTable['output_type'] = 'display_data';\n",
              "          await google.colab.output.renderOutput(dataTable, element);\n",
              "          const docLink = document.createElement('div');\n",
              "          docLink.innerHTML = docLinkHtml;\n",
              "          element.appendChild(docLink);\n",
              "        }\n",
              "      </script>\n",
              "    </div>\n",
              "  </div>\n",
              "  "
            ]
          },
          "metadata": {},
          "execution_count": 14
        }
      ]
    },
    {
      "cell_type": "markdown",
      "source": [
        "Show the unique values"
      ],
      "metadata": {
        "id": "21xQgizVBgfB"
      }
    },
    {
      "cell_type": "code",
      "source": [
        "data =df[\"latitude\"].unique()\n",
        "data"
      ],
      "metadata": {
        "colab": {
          "base_uri": "https://localhost:8080/"
        },
        "id": "QXYKUl4iDLxA",
        "outputId": "9070f2ac-a4a9-422c-cee9-14658892446e"
      },
      "execution_count": 18,
      "outputs": [
        {
          "output_type": "execute_result",
          "data": {
            "text/plain": [
              "array([37.37, 34.26, 33.78, 33.82, 36.33, 36.51, 38.63, 35.48, 38.4 ,\n",
              "       34.08, 33.98, 35.85, 37.25, 32.97, 33.73, 33.81, 37.53, 38.69,\n",
              "       34.21, 38.01, 37.75, 38.68, 34.07, 37.79, 33.28, 34.16, 37.76,\n",
              "       33.99, 34.01, 33.91, 39.31, 34.55, 33.94, 34.  , 37.97, 33.92,\n",
              "       33.93, 34.23, 36.2 , 32.77, 34.15, 34.09, 34.13, 33.17, 37.44,\n",
              "       38.  , 37.7 , 35.97, 37.8 , 33.8 , 38.72, 37.33, 37.56, 37.23,\n",
              "       40.87, 32.73, 37.69, 33.86, 34.04, 37.36, 39.5 , 37.49, 37.35,\n",
              "       34.2 , 34.17, 37.99, 37.4 , 34.05, 34.25, 38.26, 37.68, 36.74,\n",
              "       41.01, 37.62, 37.98, 33.87, 37.84, 36.64, 36.77, 38.42, 38.87,\n",
              "       33.77, 34.02, 38.62, 32.8 , 36.54, 38.52, 34.27, 37.74, 40.77,\n",
              "       33.63, 34.1 , 32.81, 37.34, 33.02, 37.3 , 38.55, 36.61, 33.84,\n",
              "       37.73, 37.96, 34.03, 34.71, 36.75, 40.46, 36.95, 39.49, 32.75,\n",
              "       39.28, 32.72, 37.54, 37.6 , 33.15, 37.72, 33.64, 32.79, 33.62,\n",
              "       33.71, 34.94, 35.87, 34.19, 33.9 , 37.26, 38.64, 35.41, 39.06,\n",
              "       34.28, 33.88, 37.55, 37.31, 33.06, 34.11, 32.83, 33.89, 32.86,\n",
              "       38.95, 37.45, 39.11, 38.38, 37.87, 34.24, 37.28, 33.7 , 40.07,\n",
              "       38.73, 37.14, 34.48, 38.34, 33.6 , 37.78, 38.51, 38.61, 37.43,\n",
              "       33.72, 38.46, 34.18, 37.27, 35.91, 38.03, 39.79, 32.82, 39.14,\n",
              "       33.07, 35.46, 37.39, 32.69, 36.3 , 34.22, 35.38, 33.85, 37.38,\n",
              "       39.1 , 32.68, 37.95, 32.58, 32.87, 37.88, 37.64, 34.14, 33.43,\n",
              "       38.98, 38.27, 38.44, 34.69, 37.59, 33.65, 34.12, 38.66, 35.35,\n",
              "       38.23, 34.3 , 38.88, 33.96, 33.97, 32.98, 34.38, 37.66, 32.7 ,\n",
              "       36.73, 38.35, 36.21, 38.78, 34.06, 32.91, 36.81, 32.93, 37.77,\n",
              "       37.83, 40.78, 33.79, 39.15, 38.76, 33.61, 37.48, 40.31, 33.74,\n",
              "       34.41, 36.68, 34.43, 36.22, 37.46, 37.85, 35.49, 38.97, 36.79,\n",
              "       35.62, 39.13, 32.74, 33.13, 37.22, 34.98, 36.62, 33.08, 38.94,\n",
              "       36.96, 35.39, 37.29, 32.71, 37.86, 39.52, 40.71, 36.56, 34.56,\n",
              "       37.41, 38.67, 37.47, 33.95, 36.1 , 38.71, 34.35, 37.82, 36.82,\n",
              "       36.78, 32.84, 38.56, 40.26, 39.75, 38.54, 33.66, 40.2 , 33.18,\n",
              "       32.76, 38.28, 40.47, 36.09, 37.94, 39.07, 34.65, 36.06, 33.83,\n",
              "       39.51, 32.61, 33.48, 32.64, 40.01, 32.85, 36.58, 38.47, 33.76,\n",
              "       38.37, 41.23, 37.52, 34.29, 38.41, 33.69, 32.59, 36.42, 37.67,\n",
              "       37.81, 36.23, 34.49, 34.42, 37.9 , 36.94, 36.9 , 39.7 , 36.52,\n",
              "       36.59, 33.57, 37.92, 38.12, 37.71, 39.02, 37.42, 32.9 , 34.54,\n",
              "       34.52, 33.68, 37.93, 36.98, 36.57, 38.24, 40.44, 36.14, 39.16,\n",
              "       40.18, 36.35, 35.  , 39.2 , 32.66, 37.63, 37.58, 39.92, 39.22,\n",
              "       35.14, 36.7 , 33.16, 40.75, 33.29, 40.95, 39.56, 37.04, 40.66,\n",
              "       37.91, 37.65, 36.32, 40.15, 37.  , 35.3 , 40.57, 34.4 , 38.43,\n",
              "       38.59, 34.58, 37.89, 38.9 , 33.75, 35.08, 36.72, 40.55, 38.31,\n",
              "       38.58, 38.77, 35.65, 33.58, 38.33, 38.45, 36.37, 32.95, 38.29,\n",
              "       40.61, 37.01, 36.76, 41.92, 36.13, 39.39, 39.01, 38.92, 38.96,\n",
              "       38.14, 32.92, 37.32, 36.25, 33.21, 38.79, 40.48, 38.48, 33.01,\n",
              "       33.09, 36.31, 39.32, 35.61, 33.1 , 34.31, 37.61, 37.05, 37.57,\n",
              "       38.53, 36.91, 34.45, 33.14, 40.4 , 38.04, 36.39, 38.57, 32.57,\n",
              "       39.63, 35.03, 36.19, 34.95, 33.19, 39.3 , 38.65, 33.51, 40.8 ,\n",
              "       34.36, 39.24, 34.47, 34.5 , 36.99, 37.11, 35.26, 40.42, 35.06,\n",
              "       34.62, 40.6 , 37.15, 38.11, 36.8 , 32.56, 34.87, 32.78, 33.42,\n",
              "       37.19, 37.12, 36.63, 38.02, 36.65, 38.16, 39.72, 38.7 , 36.6 ,\n",
              "       36.53, 36.97, 35.12, 37.13, 38.32, 39.66, 33.2 , 35.5 , 40.99,\n",
              "       33.5 , 41.8 , 32.62, 39.76, 40.56, 35.27, 39.36, 39.12, 38.75,\n",
              "       34.96, 33.12, 37.08, 39.19, 38.21, 36.55, 36.34, 36.38, 39.17,\n",
              "       34.91, 36.89, 35.37, 34.44, 33.49, 40.39, 33.44, 40.45, 38.09,\n",
              "       35.76, 36.71, 33.26, 34.32, 39.97, 39.46, 35.33, 33.67, 36.86,\n",
              "       34.9 , 35.42, 36.16, 32.6 , 33.03, 35.74, 35.24, 40.59, 34.7 ,\n",
              "       37.21, 35.17, 38.6 , 33.54, 38.5 , 39.23, 34.39, 38.22, 33.  ,\n",
              "       34.37, 37.51, 39.77, 36.83, 40.79, 34.34, 39.25, 38.99, 36.12,\n",
              "       37.24, 39.9 , 38.91, 38.39, 37.18, 38.93, 33.55, 35.29, 39.61,\n",
              "       41.31, 39.67, 38.86, 34.51, 36.69, 38.15, 33.22, 40.17, 35.86,\n",
              "       35.13, 38.13, 32.99, 39.74, 36.08, 39.93, 33.04, 40.72, 33.53,\n",
              "       35.31, 39.27, 32.67, 34.86, 40.12, 40.97, 33.46, 39.44, 39.69,\n",
              "       38.74, 38.25, 33.31, 39.21, 39.34, 35.32, 38.2 , 34.64, 34.53,\n",
              "       36.44, 40.09, 37.07, 35.34, 36.85, 35.05, 38.05, 41.2 , 35.02,\n",
              "       34.66, 39.8 , 36.92, 41.28, 38.49, 35.4 , 39.48, 32.96, 39.09,\n",
              "       40.52, 38.1 , 41.54, 33.45, 39.35, 36.93, 34.46, 33.52, 33.11,\n",
              "       35.15, 38.08, 40.64, 38.89, 38.81, 32.88, 35.51, 36.87, 41.63,\n",
              "       35.36, 34.68])"
            ]
          },
          "metadata": {},
          "execution_count": 18
        }
      ]
    },
    {
      "cell_type": "code",
      "source": [
        "print(sorted(data))"
      ],
      "metadata": {
        "colab": {
          "base_uri": "https://localhost:8080/"
        },
        "id": "-pwzRqNIE80Y",
        "outputId": "db7116af-061a-4506-8f66-8d650a333604"
      },
      "execution_count": 31,
      "outputs": [
        {
          "output_type": "stream",
          "name": "stdout",
          "text": [
            "[32.56, 32.57, 32.58, 32.59, 32.6, 32.61, 32.62, 32.64, 32.66, 32.67, 32.68, 32.69, 32.7, 32.71, 32.72, 32.73, 32.74, 32.75, 32.76, 32.77, 32.78, 32.79, 32.8, 32.81, 32.82, 32.83, 32.84, 32.85, 32.86, 32.87, 32.88, 32.9, 32.91, 32.92, 32.93, 32.95, 32.96, 32.97, 32.98, 32.99, 33.0, 33.01, 33.02, 33.03, 33.04, 33.06, 33.07, 33.08, 33.09, 33.1, 33.11, 33.12, 33.13, 33.14, 33.15, 33.16, 33.17, 33.18, 33.19, 33.2, 33.21, 33.22, 33.26, 33.28, 33.29, 33.31, 33.42, 33.43, 33.44, 33.45, 33.46, 33.48, 33.49, 33.5, 33.51, 33.52, 33.53, 33.54, 33.55, 33.57, 33.58, 33.6, 33.61, 33.62, 33.63, 33.64, 33.65, 33.66, 33.67, 33.68, 33.69, 33.7, 33.71, 33.72, 33.73, 33.74, 33.75, 33.76, 33.77, 33.78, 33.79, 33.8, 33.81, 33.82, 33.83, 33.84, 33.85, 33.86, 33.87, 33.88, 33.89, 33.9, 33.91, 33.92, 33.93, 33.94, 33.95, 33.96, 33.97, 33.98, 33.99, 34.0, 34.01, 34.02, 34.03, 34.04, 34.05, 34.06, 34.07, 34.08, 34.09, 34.1, 34.11, 34.12, 34.13, 34.14, 34.15, 34.16, 34.17, 34.18, 34.19, 34.2, 34.21, 34.22, 34.23, 34.24, 34.25, 34.26, 34.27, 34.28, 34.29, 34.3, 34.31, 34.32, 34.34, 34.35, 34.36, 34.37, 34.38, 34.39, 34.4, 34.41, 34.42, 34.43, 34.44, 34.45, 34.46, 34.47, 34.48, 34.49, 34.5, 34.51, 34.52, 34.53, 34.54, 34.55, 34.56, 34.58, 34.62, 34.64, 34.65, 34.66, 34.68, 34.69, 34.7, 34.71, 34.86, 34.87, 34.9, 34.91, 34.94, 34.95, 34.96, 34.98, 35.0, 35.02, 35.03, 35.05, 35.06, 35.08, 35.12, 35.13, 35.14, 35.15, 35.17, 35.24, 35.26, 35.27, 35.29, 35.3, 35.31, 35.32, 35.33, 35.34, 35.35, 35.36, 35.37, 35.38, 35.39, 35.4, 35.41, 35.42, 35.46, 35.48, 35.49, 35.5, 35.51, 35.61, 35.62, 35.65, 35.74, 35.76, 35.85, 35.86, 35.87, 35.91, 35.97, 36.06, 36.08, 36.09, 36.1, 36.12, 36.13, 36.14, 36.16, 36.19, 36.2, 36.21, 36.22, 36.23, 36.25, 36.3, 36.31, 36.32, 36.33, 36.34, 36.35, 36.37, 36.38, 36.39, 36.42, 36.44, 36.51, 36.52, 36.53, 36.54, 36.55, 36.56, 36.57, 36.58, 36.59, 36.6, 36.61, 36.62, 36.63, 36.64, 36.65, 36.68, 36.69, 36.7, 36.71, 36.72, 36.73, 36.74, 36.75, 36.76, 36.77, 36.78, 36.79, 36.8, 36.81, 36.82, 36.83, 36.85, 36.86, 36.87, 36.89, 36.9, 36.91, 36.92, 36.93, 36.94, 36.95, 36.96, 36.97, 36.98, 36.99, 37.0, 37.01, 37.04, 37.05, 37.07, 37.08, 37.11, 37.12, 37.13, 37.14, 37.15, 37.18, 37.19, 37.21, 37.22, 37.23, 37.24, 37.25, 37.26, 37.27, 37.28, 37.29, 37.3, 37.31, 37.32, 37.33, 37.34, 37.35, 37.36, 37.37, 37.38, 37.39, 37.4, 37.41, 37.42, 37.43, 37.44, 37.45, 37.46, 37.47, 37.48, 37.49, 37.51, 37.52, 37.53, 37.54, 37.55, 37.56, 37.57, 37.58, 37.59, 37.6, 37.61, 37.62, 37.63, 37.64, 37.65, 37.66, 37.67, 37.68, 37.69, 37.7, 37.71, 37.72, 37.73, 37.74, 37.75, 37.76, 37.77, 37.78, 37.79, 37.8, 37.81, 37.82, 37.83, 37.84, 37.85, 37.86, 37.87, 37.88, 37.89, 37.9, 37.91, 37.92, 37.93, 37.94, 37.95, 37.96, 37.97, 37.98, 37.99, 38.0, 38.01, 38.02, 38.03, 38.04, 38.05, 38.08, 38.09, 38.1, 38.11, 38.12, 38.13, 38.14, 38.15, 38.16, 38.2, 38.21, 38.22, 38.23, 38.24, 38.25, 38.26, 38.27, 38.28, 38.29, 38.31, 38.32, 38.33, 38.34, 38.35, 38.37, 38.38, 38.39, 38.4, 38.41, 38.42, 38.43, 38.44, 38.45, 38.46, 38.47, 38.48, 38.49, 38.5, 38.51, 38.52, 38.53, 38.54, 38.55, 38.56, 38.57, 38.58, 38.59, 38.6, 38.61, 38.62, 38.63, 38.64, 38.65, 38.66, 38.67, 38.68, 38.69, 38.7, 38.71, 38.72, 38.73, 38.74, 38.75, 38.76, 38.77, 38.78, 38.79, 38.81, 38.86, 38.87, 38.88, 38.89, 38.9, 38.91, 38.92, 38.93, 38.94, 38.95, 38.96, 38.97, 38.98, 38.99, 39.01, 39.02, 39.06, 39.07, 39.09, 39.1, 39.11, 39.12, 39.13, 39.14, 39.15, 39.16, 39.17, 39.19, 39.2, 39.21, 39.22, 39.23, 39.24, 39.25, 39.27, 39.28, 39.3, 39.31, 39.32, 39.34, 39.35, 39.36, 39.39, 39.44, 39.46, 39.48, 39.49, 39.5, 39.51, 39.52, 39.56, 39.61, 39.63, 39.66, 39.67, 39.69, 39.7, 39.72, 39.74, 39.75, 39.76, 39.77, 39.79, 39.8, 39.9, 39.92, 39.93, 39.97, 40.01, 40.07, 40.09, 40.12, 40.15, 40.17, 40.18, 40.2, 40.26, 40.31, 40.39, 40.4, 40.42, 40.44, 40.45, 40.46, 40.47, 40.48, 40.52, 40.55, 40.56, 40.57, 40.59, 40.6, 40.61, 40.64, 40.66, 40.71, 40.72, 40.75, 40.77, 40.78, 40.79, 40.8, 40.87, 40.95, 40.97, 40.99, 41.01, 41.2, 41.23, 41.28, 41.31, 41.54, 41.63, 41.8, 41.92]\n"
          ]
        }
      ]
    },
    {
      "cell_type": "code",
      "source": [
        "df.nunique()"
      ],
      "metadata": {
        "colab": {
          "base_uri": "https://localhost:8080/"
        },
        "id": "3yjDn7aODejM",
        "outputId": "6e0a36f6-d474-4fe3-ecdb-413ef815a678"
      },
      "execution_count": 32,
      "outputs": [
        {
          "output_type": "execute_result",
          "data": {
            "text/plain": [
              "longitude              607\n",
              "latitude               587\n",
              "housing_median_age      52\n",
              "total_rooms           2215\n",
              "total_bedrooms        1055\n",
              "population            1802\n",
              "households            1026\n",
              "median_income         2578\n",
              "median_house_value    1784\n",
              "dtype: int64"
            ]
          },
          "metadata": {},
          "execution_count": 32
        }
      ]
    },
    {
      "cell_type": "code",
      "source": [
        "df[\"latitude\"].nunique()"
      ],
      "metadata": {
        "colab": {
          "base_uri": "https://localhost:8080/"
        },
        "id": "7eoDm1urI61q",
        "outputId": "270acf28-9ce9-4db1-bdb3-4aef0647c0b4"
      },
      "execution_count": 35,
      "outputs": [
        {
          "output_type": "execute_result",
          "data": {
            "text/plain": [
              "587"
            ]
          },
          "metadata": {},
          "execution_count": 35
        }
      ]
    }
  ]
}